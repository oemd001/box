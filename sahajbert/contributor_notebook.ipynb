{
 "cells": [
  {
   "cell_type": "markdown",
   "metadata": {
    "id": "bdQIcM112KfI"
   },
   "source": [
    "<center><img src=\"https://i.imgur.com/FHMoW3N.png\" width=360px><br><b>&nbsp;&nbsp;&nbsp;&nbsp;&nbsp;&nbsp;&nbsp;&nbsp;&nbsp;&nbsp;Collaborative training <sup>v0.9 alpha</sup></b></center>\n",
    "\n",
    "\n",
    "This notebook will use local or colab GPU to help train ALBERT-large collaboratively. Your instance will compute gradients and exchange them with a bunch of volunteers around the world. We explain how it works at the bottom. But for now, please run all cells :)\n",
    "\n",
    "To start training, you will need to login to your Hugging Face account, please fill in the prompts as in the example below (replace `robot-bengali` with your username):\n",
    "\n",
    "![img](https://i.imgur.com/txuWbJi.png)\n",
    "\n",
    "Please do not run colab notebooks from multiple google accounts: google doesn't like this."
   ]
  },
  {
   "cell_type": "code",
   "execution_count": null,
   "metadata": {
    "colab": {
     "base_uri": "https://localhost:8080/"
    },
    "id": "cnUf-OajJt8S",
    "outputId": "a7880dd8-3395-4131-ec40-e442d284e7e4"
   },
   "outputs": [],
   "source": [
    "experiment_name = \"bengali_MAIN\"\n",
    "hivemind_version = \"0.9.9.post1\"\n",
    "%env EXPERIMENT_ID 15\n",
    "\n",
    "!echo \"Installing dependencies...\"\n",
    "!pip git+https://github.com/learning-at-home/hivemind.git@{hivemind_version} >> install.log 2>&1\n",
    "!git clone https://github.com/yandex-research/DeDLOC >> install.log 2>&1\n",
    "%cd ./DeDLOC/sahajbert\n",
    "!pip install -r requirements.txt >> install.log 2>&1\n",
    "\n",
    "from shlex import quote\n",
    "import torch\n",
    "from huggingface_auth import authorize_with_huggingface\n",
    "from runner import run_with_logging\n",
    "\n",
    "assert torch.cuda.is_available(), \"GPU device not found. If running in colab, please retry in a few minutes.\"\n",
    "device_name = torch.cuda.get_device_name(0)\n",
    "microbatch_size = 4 if 'T4' in device_name or 'P100' in device_name else 1\n",
    "print(f\"Running with device {device_name}, local batch size = {microbatch_size}\")\n",
    "\n",
    "authorizer = authorize_with_huggingface()\n",
    "\n",
    "!ulimit -n 4096 && HIVEMIND_THREADS=256 \\\n",
    " USERNAME={quote(authorizer.username)} PASSWORD={quote(authorizer.password)} python ./run_trainer.py --client_mode \\\n",
    " --initial_peers {authorizer.coordinator_ip}:{authorizer.coordinator_port} \\\n",
    " --averaging_expiration 10 --statistics_expiration 120 \\\n",
    " --batch_size_lead 400 --per_device_train_batch_size {microbatch_size} --gradient_accumulation_steps 1 \\\n",
    " --logging_first_step --logging_steps 100 --run_name {quote(authorizer.username)} \\\n",
    " --output_dir ./outputs --overwrite_output_dir --logging_dir ./logs \\\n",
    " --experiment_prefix {quote(experiment_name)} --seed 42"
   ]
  },
  {
   "cell_type": "markdown",
   "metadata": {
    "id": "93KCg3RZzEks"
   },
   "source": [
    "### What's up next?\n",
    "* Check the training progress on public learning curves: https://wandb.ai/learning-at-home/Main_metrics\n",
    "* Run a second GPU session with kaggle notebooks: https://www.kaggle.com/yhn112/collaborative-training-d87a28\n",
    "* View model checkpoints: https://huggingface.co/neuropark/sahajBERT\n",
    "* See [this tutorial](https://github.com/learning-at-home/hivemind/tree/master/examples/albert) on how to start your own collaborative runs!\n",
    "\n",
    "\n",
    "Co-created by [yhn112](https://github.com/yhn112), [leshanbog](https://github.com/leshanbog), [foksly](https://github.com/foksly) and [borzunov](https://github.com/borzunov) from [hivemind](https://github.com/learning-at-home/hivemind) (YSDA), [lhoestq](https://github.com/lhoestq), [SaulLu](https://github.com/SaulLu) and [stas00](https://github.com/stas00) from [huggingface](http://huggingface.co)."
   ]
  },
  {
   "cell_type": "markdown",
   "metadata": {
    "id": "EUQ_j06kS6pb"
   },
   "source": [
    "### How it works\n",
    "\n",
    "Since peers can join and leave at any time, we can't use global [Ring All-Reduce](https://towardsdatascience.com/visual-intuition-on-ring-allreduce-for-distributed-deep-learning-d1f34b4911da) for averaging: a single missing peer can break the entire protocol. Instead, peers dynamically assemble into small groups and run all-reduce within each group. Consider an example with 9 GPUs:\n",
    "\n",
    "\n",
    "<img src=\"https://i.imgur.com/QcD1mfG.png\" width=360px>\n",
    "\n",
    "The All-Reduce protocol within group can be Ring-AllReduce, but we use a simpler all-to-all algorithm known as butterfly-like all-reduce.<br>\n",
    "\n",
    "<img src=\"https://i.imgur.com/ewq3vS6.png\" width=380px>\n",
    "\n",
    "After each successful round, participants shuffle around and find new groups:\n",
    "\n",
    "<img src=\"https://i.imgur.com/dexNCL3.png\" width=350px>\n",
    "\n",
    "If one of the peers fails to do his part, it will only affect his local group, and only for a single round.\n",
    "\n",
    "\n",
    "<img src=\"https://i.imgur.com/RBmElUi.png\" width=340px>\n",
    "\n",
    "Afterwards, peers from the failed group will find new groupmates according to the algorithm."
   ]
  }
 ],
 "metadata": {
  "accelerator": "GPU",
  "colab": {
   "collapsed_sections": [],
   "name": "colab_starter.ipynb",
   "provenance": []
  },
  "kernelspec": {
   "display_name": "Python 3",
   "language": "python",
   "name": "python3"
  },
  "language_info": {
   "codemirror_mode": {
    "name": "ipython",
    "version": 3
   },
   "file_extension": ".py",
   "mimetype": "text/x-python",
   "name": "python",
   "nbconvert_exporter": "python",
   "pygments_lexer": "ipython3",
   "version": "3.8.5"
  }
 },
 "nbformat": 4,
 "nbformat_minor": 1
}